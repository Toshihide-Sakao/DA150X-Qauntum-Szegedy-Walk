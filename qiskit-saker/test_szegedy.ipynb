{
 "cells": [
  {
   "cell_type": "code",
   "execution_count": 13,
   "metadata": {},
   "outputs": [
    {
     "ename": "QiskitError",
     "evalue": "'Data for experiment \"circuit-181\" could not be found.'",
     "output_type": "error",
     "traceback": [
      "\u001b[31m---------------------------------------------------------------------------\u001b[39m",
      "\u001b[31mQiskitError\u001b[39m                               Traceback (most recent call last)",
      "\u001b[36mCell\u001b[39m\u001b[36m \u001b[39m\u001b[32mIn[13]\u001b[39m\u001b[32m, line 31\u001b[39m\n\u001b[32m     29\u001b[39m job = simulator.run(compiled_qc)\n\u001b[32m     30\u001b[39m result = job.result()\n\u001b[32m---> \u001b[39m\u001b[32m31\u001b[39m unitary = \u001b[43mresult\u001b[49m\u001b[43m.\u001b[49m\u001b[43mget_unitary\u001b[49m\u001b[43m(\u001b[49m\u001b[43mqc\u001b[49m\u001b[43m)\u001b[49m\n\u001b[32m     32\u001b[39m \u001b[38;5;28mprint\u001b[39m(\u001b[33m\"\u001b[39m\u001b[33mSzegedy Walk Unitary:\u001b[39m\u001b[38;5;130;01m\\n\u001b[39;00m\u001b[33m\"\u001b[39m, np.round(unitary, \u001b[32m3\u001b[39m))\n",
      "\u001b[36mFile \u001b[39m\u001b[32m~/Desktop/KEX/DA150X-Qauntum-Szegedy-Walk/qiskit-saker/.venv/lib/python3.11/site-packages/qiskit/result/result.py:420\u001b[39m, in \u001b[36mResult.get_unitary\u001b[39m\u001b[34m(self, experiment, decimals)\u001b[39m\n\u001b[32m    404\u001b[39m \u001b[38;5;250m\u001b[39m\u001b[33;03m\"\"\"Get the final unitary of an experiment.\u001b[39;00m\n\u001b[32m    405\u001b[39m \n\u001b[32m    406\u001b[39m \u001b[33;03mArgs:\u001b[39;00m\n\u001b[32m   (...)\u001b[39m\u001b[32m    417\u001b[39m \u001b[33;03m    QiskitError: if there is no unitary for the experiment.\u001b[39;00m\n\u001b[32m    418\u001b[39m \u001b[33;03m\"\"\"\u001b[39;00m\n\u001b[32m    419\u001b[39m \u001b[38;5;28;01mtry\u001b[39;00m:\n\u001b[32m--> \u001b[39m\u001b[32m420\u001b[39m     \u001b[38;5;28;01mreturn\u001b[39;00m postprocess.format_unitary(\u001b[38;5;28;43mself\u001b[39;49m\u001b[43m.\u001b[49m\u001b[43mdata\u001b[49m\u001b[43m(\u001b[49m\u001b[43mexperiment\u001b[49m\u001b[43m)\u001b[49m[\u001b[33m\"\u001b[39m\u001b[33munitary\u001b[39m\u001b[33m\"\u001b[39m], decimals=decimals)\n\u001b[32m    421\u001b[39m \u001b[38;5;28;01mexcept\u001b[39;00m \u001b[38;5;167;01mKeyError\u001b[39;00m \u001b[38;5;28;01mas\u001b[39;00m ex:\n\u001b[32m    422\u001b[39m     \u001b[38;5;28;01mraise\u001b[39;00m QiskitError(\u001b[33mf\u001b[39m\u001b[33m'\u001b[39m\u001b[33mNo unitary for experiment \u001b[39m\u001b[33m\"\u001b[39m\u001b[38;5;132;01m{\u001b[39;00m\u001b[38;5;28mrepr\u001b[39m(experiment)\u001b[38;5;132;01m}\u001b[39;00m\u001b[33m\"\u001b[39m\u001b[33m'\u001b[39m) \u001b[38;5;28;01mfrom\u001b[39;00m\u001b[38;5;250m \u001b[39m\u001b[34;01mex\u001b[39;00m\n",
      "\u001b[36mFile \u001b[39m\u001b[32m~/Desktop/KEX/DA150X-Qauntum-Szegedy-Walk/qiskit-saker/.venv/lib/python3.11/site-packages/qiskit/result/result.py:271\u001b[39m, in \u001b[36mResult.data\u001b[39m\u001b[34m(self, experiment)\u001b[39m\n\u001b[32m    223\u001b[39m \u001b[38;5;250m\u001b[39m\u001b[33;03m\"\"\"Get the raw data for an experiment.\u001b[39;00m\n\u001b[32m    224\u001b[39m \n\u001b[32m    225\u001b[39m \u001b[33;03mNote this data will be a single classical and quantum register and in a\u001b[39;00m\n\u001b[32m   (...)\u001b[39m\u001b[32m    268\u001b[39m \u001b[33;03m    QiskitError: if data for the experiment could not be retrieved.\u001b[39;00m\n\u001b[32m    269\u001b[39m \u001b[33;03m\"\"\"\u001b[39;00m\n\u001b[32m    270\u001b[39m \u001b[38;5;28;01mtry\u001b[39;00m:\n\u001b[32m--> \u001b[39m\u001b[32m271\u001b[39m     \u001b[38;5;28;01mreturn\u001b[39;00m \u001b[38;5;28;43mself\u001b[39;49m\u001b[43m.\u001b[49m\u001b[43m_get_experiment\u001b[49m\u001b[43m(\u001b[49m\u001b[43mexperiment\u001b[49m\u001b[43m)\u001b[49m.data.to_dict()\n\u001b[32m    272\u001b[39m \u001b[38;5;28;01mexcept\u001b[39;00m (\u001b[38;5;167;01mKeyError\u001b[39;00m, \u001b[38;5;167;01mTypeError\u001b[39;00m) \u001b[38;5;28;01mas\u001b[39;00m ex:\n\u001b[32m    273\u001b[39m     \u001b[38;5;28;01mraise\u001b[39;00m QiskitError(\u001b[33mf\u001b[39m\u001b[33m'\u001b[39m\u001b[33mNo data for experiment \u001b[39m\u001b[33m\"\u001b[39m\u001b[38;5;132;01m{\u001b[39;00m\u001b[38;5;28mrepr\u001b[39m(experiment)\u001b[38;5;132;01m}\u001b[39;00m\u001b[33m\"\u001b[39m\u001b[33m'\u001b[39m) \u001b[38;5;28;01mfrom\u001b[39;00m\u001b[38;5;250m \u001b[39m\u001b[34;01mex\u001b[39;00m\n",
      "\u001b[36mFile \u001b[39m\u001b[32m~/Desktop/KEX/DA150X-Qauntum-Szegedy-Walk/qiskit-saker/.venv/lib/python3.11/site-packages/qiskit/result/result.py:464\u001b[39m, in \u001b[36mResult._get_experiment\u001b[39m\u001b[34m(self, key)\u001b[39m\n\u001b[32m    457\u001b[39m exp = [\n\u001b[32m    458\u001b[39m     result\n\u001b[32m    459\u001b[39m     \u001b[38;5;28;01mfor\u001b[39;00m result \u001b[38;5;129;01min\u001b[39;00m \u001b[38;5;28mself\u001b[39m.results\n\u001b[32m    460\u001b[39m     \u001b[38;5;28;01mif\u001b[39;00m \u001b[38;5;28mgetattr\u001b[39m(\u001b[38;5;28mgetattr\u001b[39m(result, \u001b[33m\"\u001b[39m\u001b[33mheader\u001b[39m\u001b[33m\"\u001b[39m, \u001b[38;5;28;01mNone\u001b[39;00m), \u001b[33m\"\u001b[39m\u001b[33mname\u001b[39m\u001b[33m\"\u001b[39m, \u001b[33m\"\u001b[39m\u001b[33m\"\u001b[39m) == key\n\u001b[32m    461\u001b[39m ]\n\u001b[32m    463\u001b[39m \u001b[38;5;28;01mif\u001b[39;00m \u001b[38;5;28mlen\u001b[39m(exp) == \u001b[32m0\u001b[39m:\n\u001b[32m--> \u001b[39m\u001b[32m464\u001b[39m     \u001b[38;5;28;01mraise\u001b[39;00m QiskitError(\u001b[33mf\u001b[39m\u001b[33m'\u001b[39m\u001b[33mData for experiment \u001b[39m\u001b[33m\"\u001b[39m\u001b[38;5;132;01m{\u001b[39;00mkey\u001b[38;5;132;01m}\u001b[39;00m\u001b[33m\"\u001b[39m\u001b[33m could not be found.\u001b[39m\u001b[33m'\u001b[39m)\n\u001b[32m    465\u001b[39m \u001b[38;5;28;01mif\u001b[39;00m \u001b[38;5;28mlen\u001b[39m(exp) == \u001b[32m1\u001b[39m:\n\u001b[32m    466\u001b[39m     exp = exp[\u001b[32m0\u001b[39m]\n",
      "\u001b[31mQiskitError\u001b[39m: 'Data for experiment \"circuit-181\" could not be found.'"
     ]
    }
   ],
   "source": [
    "from qiskit import QuantumCircuit, transpile\n",
    "from qiskit_aer import Aer\n",
    "import numpy as np\n",
    "\n",
    "# Markov Chain with transition matrix\n",
    "P = np.array([[0.5, 0.5], [0.5, 0.5]])\n",
    "\n",
    "# Szegedy coin operator (unitary version of P)\n",
    "\n",
    "# Shift Operator\n",
    "\n",
    "\n",
    "# Create Quantum Circuit\n",
    "qc = QuantumCircuit(2)\n",
    "\n",
    "# Measure position qubits\n",
    "qc.measure_all()\n",
    "\n",
    "# Simulate the circuit\n",
    "simulator = Aer.get_backend(\"qasm_simulator\")\n",
    "new_qc = transpile(qc, simulator)\n",
    "job = simulator.run(new_qc)\n",
    "result = job.result()\n",
    "counts = result.get_counts()\n",
    "\n",
    "print(\"Measurement counts:\", counts)"
   ]
  },
  {
   "cell_type": "code",
   "execution_count": null,
   "metadata": {},
   "outputs": [],
   "source": []
  }
 ],
 "metadata": {
  "kernelspec": {
   "display_name": "Python 3 (ipykernel)",
   "language": "python",
   "name": "python3"
  },
  "language_info": {
   "codemirror_mode": {
    "name": "ipython",
    "version": 3
   },
   "file_extension": ".py",
   "mimetype": "text/x-python",
   "name": "python",
   "nbconvert_exporter": "python",
   "pygments_lexer": "ipython3",
   "version": "3.11.3"
  }
 },
 "nbformat": 4,
 "nbformat_minor": 4
}
