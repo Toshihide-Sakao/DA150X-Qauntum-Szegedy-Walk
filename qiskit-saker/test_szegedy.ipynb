{
 "cells": [
  {
   "cell_type": "code",
   "execution_count": 1,
   "metadata": {},
   "outputs": [],
   "source": [
    "import matplotlib.pyplot as plt\n",
    "from qiskit import QuantumCircuit, transpile, QuantumRegister\n",
    "from qiskit.circuit.library import XGate, ZGate\n",
    "from qiskit_aer import Aer, AerSimulator\n",
    "from qiskit.quantum_info import Statevector\n",
    "from qiskit.visualization import plot_histogram"
   ]
  },
  {
   "cell_type": "code",
   "execution_count": 2,
   "metadata": {},
   "outputs": [],
   "source": [
    "def multi_cx(qc, controls, anti_controls, target):\n",
    "    num_controls = len(controls) + len(anti_controls)\n",
    "    ctrl_state = get_ctrl_state(controls, anti_controls)\n",
    "    \n",
    "    new_gate = XGate().control(num_controls, ctrl_state=ctrl_state)\n",
    "    \n",
    "    qc.append(new_gate, controls + anti_controls + [target])\n",
    "    \n",
    "    return qc"
   ]
  },
  {
   "cell_type": "code",
   "execution_count": 3,
   "metadata": {},
   "outputs": [],
   "source": [
    "def multi_cz(qc, controls, anti_controls, target):\n",
    "    num_controls = len(controls) + len(anti_controls)\n",
    "    ctrl_state = get_ctrl_state(controls, anti_controls)\n",
    "    new_gate = ZGate().control(num_controls, ctrl_state=ctrl_state)\n",
    "    \n",
    "    qc.append(new_gate, controls + anti_controls + [target])\n",
    "    \n",
    "    return qc"
   ]
  },
  {
   "cell_type": "code",
   "execution_count": 4,
   "metadata": {},
   "outputs": [],
   "source": [
    "def get_ctrl_state(controls, anti_controls):\n",
    "    # num_controls = len(controls) + len(anti_controls)\n",
    "    ctrl_state = ''\n",
    "    for i in range(num_qubits - 1, -1, -1):\n",
    "        if i in controls:\n",
    "            ctrl_state += '1'\n",
    "        elif i in anti_controls:\n",
    "            ctrl_state += '0'\n",
    "    return ctrl_state"
   ]
  },
  {
   "cell_type": "code",
   "execution_count": 5,
   "metadata": {},
   "outputs": [],
   "source": [
    "def szegedy_step(qc):\n",
    "    multi_cx(qc, [2], [num_input + 1, num_input + 2], num_input + 0)\n",
    "    multi_cx(qc, [2], [num_input + 2], num_input + 1)\n",
    "    qc.cx(2, num_input + 2)\n",
    "\n",
    "    multi_cx(qc, [1], [num_input + 1], num_input + 0)\n",
    "    qc.cx(1, num_input + 1)\n",
    "\n",
    "    qc.cx(0, num_input + 0)\n",
    "\n",
    "    multi_cx(qc, [], [num_input + 0], num_input + 1)\n",
    "    qc.h(num_input + 0)\n",
    "    multi_cz(qc, [num_input + 0], [num_input + 1], num_input + 2)\n",
    "    qc.h(num_input + 0)\n",
    "    multi_cx(qc, [], [num_input + 0], num_input + 1)\n",
    "\n",
    "    multi_cx(qc, [2, num_input + 1, num_input + 2], [], num_input + 0)\n",
    "    multi_cx(qc, [2, num_input + 2], [], num_input + 1)\n",
    "    qc.cx(2, num_input + 2)\n",
    "\n",
    "    multi_cx(qc, [1, num_input + 1], [], num_input + 0)\n",
    "    multi_cx(qc, [1], [], num_input + 1)\n",
    "    qc.cx(0, num_input + 0)\n",
    "\n",
    "    qc.swap(2, num_input + 2)\n",
    "    qc.swap(1, num_input + 1)\n",
    "    qc.swap(0, num_input + 0)\n",
    "    \n",
    "    # qc.draw(output=\"latex_source\", filename=\"qcircuit.tex\")\n",
    "    qc.draw(output=\"mpl\")"
   ]
  },
  {
   "cell_type": "code",
   "execution_count": 6,
   "metadata": {},
   "outputs": [],
   "source": [
    "num_input = 3\n",
    "num_qubits = num_input * 2\n",
    "\n",
    "# Create the quantum circuit\n",
    "qc = QuantumCircuit(num_input * 2, num_input * 2)\n",
    "\n",
    "simulator = AerSimulator()\n",
    "\n",
    "steps = 20\n",
    "results = []"
   ]
  },
  {
   "cell_type": "code",
   "execution_count": 7,
   "metadata": {},
   "outputs": [
    {
     "data": {
      "image/png": "[encoded data removed]",
      "text/plain": [
       "<Figure size 287.496x618.722 with 1 Axes>"
      ]
     },
     "execution_count": 7,
     "metadata": {},
     "output_type": "execute_result"
    }
   ],
   "source": [
    "# Apply Hadamard coin operator\n",
    "qc.h(num_input + 0)\n",
    "qc.x(num_input + 2)\n",
    "qc.cx(num_input + 0, num_input + 1)\n",
    "# done with initail setup\n",
    "\n",
    "qc.draw(output=\"latex_source\", filename=\"initail_setup.tex\")\n",
    "\n",
    "\n",
    "qc.draw(output=\"mpl\")"
   ]
  },
  {
   "cell_type": "code",
   "execution_count": null,
   "metadata": {},
   "outputs": [],
   "source": []
  }
 ],
 "metadata": {
  "kernelspec": {
   "display_name": "Python 3 (ipykernel)",
   "language": "python",
   "name": "python3"
  },
  "language_info": {
   "codemirror_mode": {
    "name": "ipython",
    "version": 3
   },
   "file_extension": ".py",
   "mimetype": "text/x-python",
   "name": "python",
   "nbconvert_exporter": "python",
   "pygments_lexer": "ipython3",
   "version": "3.11.3"
  }
 },
 "nbformat": 4,
 "nbformat_minor": 4
}
