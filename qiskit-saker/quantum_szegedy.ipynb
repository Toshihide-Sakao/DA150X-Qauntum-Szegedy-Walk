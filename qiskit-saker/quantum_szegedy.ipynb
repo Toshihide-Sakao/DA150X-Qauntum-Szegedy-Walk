{
 "cells": [
  {
   "cell_type": "code",
   "execution_count": 76,
   "metadata": {},
   "outputs": [],
   "source": [
    "from qiskit import QuantumCircuit, transpile, QuantumRegister\n",
    "from qiskit.circuit.library import XGate, HGate, ZGate\n",
    "from qiskit_aer import Aer\n",
    "\n"
   ]
  },
  {
   "cell_type": "code",
   "execution_count": 77,
   "metadata": {},
   "outputs": [],
   "source": [
    "num_input = 3\n",
    "num_qubits = num_input * 2"
   ]
  },
  {
   "cell_type": "code",
   "execution_count": 78,
   "metadata": {},
   "outputs": [],
   "source": [
    "def multi_cx(qc, controls, anti_controls, target):\n",
    "    num_controls = len(controls) + len(anti_controls)\n",
    "    ctrl_state = get_ctrl_state(controls, anti_controls)\n",
    "    \n",
    "    new_gate = XGate().control(num_controls, ctrl_state=ctrl_state)\n",
    "    \n",
    "    qc.append(new_gate, controls + anti_controls + [target])\n",
    "    \n",
    "    return qc"
   ]
  },
  {
   "cell_type": "code",
   "execution_count": 79,
   "metadata": {},
   "outputs": [],
   "source": [
    "def multi_cz(qc, controls, anti_controls, target):\n",
    "    num_controls = len(controls) + len(anti_controls)\n",
    "    ctrl_state = get_ctrl_state(controls, anti_controls)\n",
    "    new_gate = ZGate().control(num_controls, ctrl_state=ctrl_state)\n",
    "    \n",
    "    qc.append(new_gate, controls + anti_controls + [target])\n",
    "    \n",
    "    return qc"
   ]
  },
  {
   "cell_type": "code",
   "execution_count": 80,
   "metadata": {},
   "outputs": [],
   "source": [
    "def get_ctrl_state(controls, anti_controls):\n",
    "    num_controls = len(controls) + len(anti_controls)\n",
    "    ctrl_state = ''\n",
    "    for i in range(num_qubits - 1, -1, -1):\n",
    "        if i in controls:\n",
    "            ctrl_state += '1'\n",
    "        elif i in anti_controls:\n",
    "            ctrl_state += '0'\n",
    "        else:\n",
    "            pass\n",
    "        pass\n",
    "    # ctrl_state = ctrl_state[::-1]\n",
    "    print(\"ctrl_state\", ctrl_state)\n",
    "    return ctrl_state"
   ]
  },
  {
   "cell_type": "code",
   "execution_count": null,
   "metadata": {},
   "outputs": [
    {
     "name": "stdout",
     "output_type": "stream",
     "text": [
      "ctrl_state 001\n",
      "ctrl_state 01\n",
      "ctrl_state 01\n",
      "ctrl_state 0\n",
      "ctrl_state 01\n",
      "ctrl_state 0\n",
      "ctrl_state 111\n",
      "ctrl_state 11\n",
      "ctrl_state 11\n",
      "ctrl_state 1\n"
     ]
    }
   ],
   "source": [
    "\n",
    "\n",
    "# Create the quantum circuit\n",
    "qc = QuantumCircuit(num_input * 2, num_input)\n",
    "\n",
    "# Apply Hadamard coin operator\n",
    "qc.h(num_input + 0)\n",
    "qc.x(num_input + 2)\n",
    "qc.cx(num_input + 0, num_input + 1)\n",
    "# done with initail setup\n",
    "\n",
    "qc.barrier()\n",
    "multi_cx(qc, [2], [num_input + 1, num_input + 2], num_input + 0)\n",
    "multi_cx(qc, [2], [num_input + 2], num_input + 1)\n",
    "qc.cx(2, num_input + 2)\n",
    "\n",
    "multi_cx(qc, [1], [num_input + 1], num_input + 0)\n",
    "qc.cx(1, num_input + 1)\n",
    "\n",
    "qc.cx(0, num_input + 0)\n",
    "\n",
    "multi_cx(qc, [], [num_input + 0], num_input + 1)\n",
    "qc.h(num_input + 0)\n",
    "multi_cz(qc, [num_input + 0], [num_input + 1], num_input + 2)\n",
    "qc.h(num_input + 0)\n",
    "multi_cx(qc, [], [num_input + 0], num_input + 1)\n",
    "\n",
    "multi_cx(qc, [2, num_input + 1, num_input + 2], [], num_input + 0)\n",
    "multi_cx(qc, [2, num_input + 2], [], num_input + 1)\n",
    "qc.cx(2, num_input + 2)\n",
    "\n",
    "multi_cx(qc, [1, num_input + 1], [], num_input + 0)\n",
    "multi_cx(qc, [1], [], num_input + 1)\n",
    "qc.cx(0, num_input + 0)\n",
    "\n",
    "qc.swap(2, num_input + 2)\n",
    "qc.swap(1, num_input + 1)\n",
    "qc.swap(0, num_input + 0)\n",
    "qc.barrier()\n",
    "qc.measure(range(num_input), range(num_input))\n",
    "\n",
    "qc.draw(output=\"latex\", filename=\"qcircuit.tex\")\n",
    "# qc.draw(output=\"mpl\")\n",
    "\n",
    "\n",
    "# # Simulate the circuit\n",
    "# simulator = Aer.get_backend(\"qasm_simulator\")\n",
    "# new_qc = transpile(qc, simulator)\n",
    "# job = simulator.run(new_qc)\n",
    "# result = job.result()\n",
    "# counts = result.get_counts()\n",
    "\n",
    "# print(\"Measurement outcomes:\", counts)"
   ]
  },
  {
   "cell_type": "code",
   "execution_count": null,
   "metadata": {},
   "outputs": [],
   "source": []
  }
 ],
 "metadata": {
  "kernelspec": {
   "display_name": ".venv",
   "language": "python",
   "name": "python3"
  },
  "language_info": {
   "codemirror_mode": {
    "name": "ipython",
    "version": 3
   },
   "file_extension": ".py",
   "mimetype": "text/x-python",
   "name": "python",
   "nbconvert_exporter": "python",
   "pygments_lexer": "ipython3",
   "version": "3.13.2"
  }
 },
 "nbformat": 4,
 "nbformat_minor": 2
}
