{
 "cells": [
  {
   "cell_type": "code",
   "execution_count": 1,
   "metadata": {},
   "outputs": [
    {
     "name": "stdout",
     "output_type": "stream",
     "text": [
      "Measurement outcomes: {'0000': 548, '0001': 476}\n"
     ]
    }
   ],
   "source": [
    "from qiskit import QuantumCircuit, transpile\n",
    "from qiskit_aer import Aer\n",
    "\n",
    "# Initialize a 2-qubit quantum circuit\n",
    "num_coins = 1  # Number of coin qubits\n",
    "num_nodes = 3  # Number of position (node) qubits\n",
    "num_steps = 2  # Number of steps in the quantum walk\n",
    "\n",
    "# Create the quantum circuit\n",
    "qc = QuantumCircuit(num_coins + num_nodes)\n",
    "\n",
    "# Apply Hadamard coin operator\n",
    "for qubit in range(num_coins):\n",
    "    qc.h(qubit)\n",
    "\n",
    "# Apply Szegedy shift operator\n",
    "for step in range(num_steps):\n",
    "    for node in range(num_nodes):\n",
    "        for coin_qubit in range(num_coins):\n",
    "            control = coin_qubit\n",
    "            target = num_coins + node\n",
    "            qc.cx(control, target)\n",
    "        qc.barrier()\n",
    "\n",
    "# Measure position qubits\n",
    "qc.measure_all()\n",
    "\n",
    "# Simulate the circuit\n",
    "simulator = Aer.get_backend(\"qasm_simulator\")\n",
    "new_qc = transpile(qc, simulator)\n",
    "job = simulator.run(new_qc)\n",
    "result = job.result()\n",
    "counts = result.get_counts()\n",
    "\n",
    "print(\"Measurement outcomes:\", counts)"
   ]
  }
 ],
 "metadata": {
  "kernelspec": {
   "display_name": ".venv",
   "language": "python",
   "name": "python3"
  },
  "language_info": {
   "codemirror_mode": {
    "name": "ipython",
    "version": 3
   },
   "file_extension": ".py",
   "mimetype": "text/x-python",
   "name": "python",
   "nbconvert_exporter": "python",
   "pygments_lexer": "ipython3",
   "version": "3.13.2"
  }
 },
 "nbformat": 4,
 "nbformat_minor": 2
}
