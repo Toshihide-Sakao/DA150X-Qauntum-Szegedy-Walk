{
 "cells": [
  {
   "cell_type": "code",
   "execution_count": 13,
   "metadata": {},
   "outputs": [],
   "source": [
    "import matplotlib.pyplot as plt\n",
    "from qiskit import QuantumCircuit, transpile, QuantumRegister\n",
    "from qiskit.circuit.library import XGate, ZGate\n",
    "from qiskit_aer import Aer, AerSimulator\n",
    "from qiskit.quantum_info import Statevector\n",
    "from qiskit.visualization import plot_histogram"
   ]
  },
  {
   "cell_type": "code",
   "execution_count": 14,
   "metadata": {},
   "outputs": [],
   "source": [
    "num_input = 3\n",
    "num_qubits = num_input * 2"
   ]
  },
  {
   "cell_type": "code",
   "execution_count": 15,
   "metadata": {},
   "outputs": [],
   "source": [
    "def multi_cx(qc, controls, anti_controls, target):\n",
    "    num_controls = len(controls) + len(anti_controls)\n",
    "    ctrl_state = get_ctrl_state(controls, anti_controls)\n",
    "    \n",
    "    new_gate = XGate().control(num_controls, ctrl_state=ctrl_state)\n",
    "    \n",
    "    qc.append(new_gate, controls + anti_controls + [target])\n",
    "    \n",
    "    return qc"
   ]
  },
  {
   "cell_type": "code",
   "execution_count": 16,
   "metadata": {},
   "outputs": [],
   "source": [
    "def multi_cz(qc, controls, anti_controls, target):\n",
    "    num_controls = len(controls) + len(anti_controls)\n",
    "    ctrl_state = get_ctrl_state(controls, anti_controls)\n",
    "    new_gate = ZGate().control(num_controls, ctrl_state=ctrl_state)\n",
    "    \n",
    "    qc.append(new_gate, controls + anti_controls + [target])\n",
    "    \n",
    "    return qc"
   ]
  },
  {
   "cell_type": "code",
   "execution_count": 17,
   "metadata": {},
   "outputs": [],
   "source": [
    "def get_ctrl_state(controls, anti_controls):\n",
    "    # num_controls = len(controls) + len(anti_controls)\n",
    "    ctrl_state = ''\n",
    "    for i in range(num_qubits - 1, -1, -1):\n",
    "        if i in controls:\n",
    "            ctrl_state += '1'\n",
    "        elif i in anti_controls:\n",
    "            ctrl_state += '0'\n",
    "    return ctrl_state"
   ]
  },
  {
   "cell_type": "code",
   "execution_count": 23,
   "metadata": {},
   "outputs": [],
   "source": [
    "def szegedy_step(qc):\n",
    "    # L rotation\n",
    "    ls = [num_input + i for i in range(1, num_input)]\n",
    "    print(ls)\n",
    "    for i in range(num_input):\n",
    "        multi_cx(qc, [(num_input - 1)], ls[:(ls.count - i)], num_input + i)\n",
    "        # multi_cx(qc, [num_input - 1], [num_input + 2], num_input + 1)\n",
    "        # qc.cx(num_input - 1, num_input + 2)\n",
    "        pass\n",
    "    \n",
    "\n",
    "    multi_cx(qc, [1], [num_input + 1], num_input + 0)\n",
    "    qc.cx(1, num_input + 1)\n",
    "\n",
    "    qc.cx(0, num_input + 0)\n",
    "\n",
    "    multi_cx(qc, [], [num_input + 0], num_input + 1)\n",
    "    qc.h(num_input + 0)\n",
    "    multi_cz(qc, [num_input + 0], [num_input + 1], num_input + 2)\n",
    "    qc.h(num_input + 0)\n",
    "    multi_cx(qc, [], [num_input + 0], num_input + 1)\n",
    "\n",
    "    multi_cx(qc, [2, num_input + 1, num_input + 2], [], num_input + 0)\n",
    "    multi_cx(qc, [2, num_input + 2], [], num_input + 1)\n",
    "    qc.cx(2, num_input + 2)\n",
    "\n",
    "    multi_cx(qc, [1, num_input + 1], [], num_input + 0)\n",
    "    multi_cx(qc, [1], [], num_input + 1)\n",
    "    qc.cx(0, num_input + 0)\n",
    "\n",
    "    qc.swap(2, num_input + 2)\n",
    "    qc.swap(1, num_input + 1)\n",
    "    qc.swap(0, num_input + 0)\n",
    "    \n",
    "    # qc.draw(output=\"latex_source\", filename=\"qcircuit.tex\")\n",
    "    # qc.draw(output=\"mpl\")"
   ]
  },
  {
   "cell_type": "code",
   "execution_count": 24,
   "metadata": {},
   "outputs": [
    {
     "name": "stdout",
     "output_type": "stream",
     "text": [
      "[4, 5]\n"
     ]
    },
    {
     "ename": "TypeError",
     "evalue": "unsupported operand type(s) for -: 'builtin_function_or_method' and 'int'",
     "output_type": "error",
     "traceback": [
      "\u001b[0;31m---------------------------------------------------------------------------\u001b[0m",
      "\u001b[0;31mTypeError\u001b[0m                                 Traceback (most recent call last)",
      "Cell \u001b[0;32mIn[24], line 14\u001b[0m\n\u001b[1;32m     10\u001b[0m \u001b[38;5;66;03m# done with initail setup\u001b[39;00m\n\u001b[1;32m     11\u001b[0m \u001b[38;5;66;03m# qc.barrier()\u001b[39;00m\n\u001b[1;32m     13\u001b[0m states \u001b[38;5;241m=\u001b[39m [Statevector\u001b[38;5;241m.\u001b[39mfrom_instruction(qc)]\n\u001b[0;32m---> 14\u001b[0m \u001b[43mszegedy_step\u001b[49m\u001b[43m(\u001b[49m\u001b[43mqc\u001b[49m\u001b[43m)\u001b[49m\n\u001b[1;32m     16\u001b[0m qc\u001b[38;5;241m.\u001b[39mdraw(output\u001b[38;5;241m=\u001b[39m\u001b[38;5;124m\"\u001b[39m\u001b[38;5;124mmpl\u001b[39m\u001b[38;5;124m\"\u001b[39m)\n",
      "Cell \u001b[0;32mIn[23], line 6\u001b[0m, in \u001b[0;36mszegedy_step\u001b[0;34m(qc)\u001b[0m\n\u001b[1;32m      4\u001b[0m \u001b[38;5;28mprint\u001b[39m(ls)\n\u001b[1;32m      5\u001b[0m \u001b[38;5;28;01mfor\u001b[39;00m i \u001b[38;5;129;01min\u001b[39;00m \u001b[38;5;28mrange\u001b[39m(num_input):\n\u001b[0;32m----> 6\u001b[0m     multi_cx(qc, [(num_input \u001b[38;5;241m-\u001b[39m \u001b[38;5;241m1\u001b[39m)], ls[:(\u001b[43mls\u001b[49m\u001b[38;5;241;43m.\u001b[39;49m\u001b[43mcount\u001b[49m\u001b[43m \u001b[49m\u001b[38;5;241;43m-\u001b[39;49m\u001b[43m \u001b[49m\u001b[43mi\u001b[49m)], num_input \u001b[38;5;241m+\u001b[39m i)\n\u001b[1;32m      7\u001b[0m     \u001b[38;5;66;03m# multi_cx(qc, [num_input - 1], [num_input + 2], num_input + 1)\u001b[39;00m\n\u001b[1;32m      8\u001b[0m     \u001b[38;5;66;03m# qc.cx(num_input - 1, num_input + 2)\u001b[39;00m\n\u001b[1;32m      9\u001b[0m     \u001b[38;5;28;01mpass\u001b[39;00m\n",
      "\u001b[0;31mTypeError\u001b[0m: unsupported operand type(s) for -: 'builtin_function_or_method' and 'int'"
     ]
    }
   ],
   "source": [
    "# Create the quantum circuit\n",
    "qc = QuantumCircuit(num_input * 2, num_input * 2)\n",
    "\n",
    "simulator = AerSimulator()\n",
    "\n",
    "# Apply Hadamard coin operator\n",
    "qc.h(num_input + 0)\n",
    "qc.x(num_input + 2)\n",
    "qc.cx(num_input + 0, num_input + 1)\n",
    "# done with initail setup\n",
    "# qc.barrier()\n",
    "\n",
    "states = [Statevector.from_instruction(qc)]\n",
    "szegedy_step(qc)\n",
    "\n",
    "qc.draw(output=\"mpl\")\n"
   ]
  },
  {
   "cell_type": "code",
   "execution_count": null,
   "metadata": {},
   "outputs": [
    {
     "name": "stdout",
     "output_type": "stream",
     "text": [
      "[4, 5]\n"
     ]
    },
    {
     "ename": "TypeError",
     "evalue": "unsupported operand type(s) for -: 'builtin_function_or_method' and 'int'",
     "output_type": "error",
     "traceback": [
      "\u001b[0;31m---------------------------------------------------------------------------\u001b[0m",
      "\u001b[0;31mTypeError\u001b[0m                                 Traceback (most recent call last)",
      "Cell \u001b[0;32mIn[26], line 16\u001b[0m\n\u001b[1;32m     12\u001b[0m \u001b[38;5;66;03m# done with initail setup\u001b[39;00m\n\u001b[1;32m     13\u001b[0m \u001b[38;5;66;03m# qc.barrier()\u001b[39;00m\n\u001b[1;32m     15\u001b[0m states \u001b[38;5;241m=\u001b[39m [Statevector\u001b[38;5;241m.\u001b[39mfrom_instruction(qc)]\n\u001b[0;32m---> 16\u001b[0m \u001b[43mszegedy_step\u001b[49m\u001b[43m(\u001b[49m\u001b[43mqc\u001b[49m\u001b[43m)\u001b[49m\n\u001b[1;32m     17\u001b[0m states\u001b[38;5;241m.\u001b[39mappend(Statevector\u001b[38;5;241m.\u001b[39mfrom_instruction(qc))\n\u001b[1;32m     18\u001b[0m \u001b[38;5;28;01mfor\u001b[39;00m _ \u001b[38;5;129;01min\u001b[39;00m \u001b[38;5;28mrange\u001b[39m(steps\u001b[38;5;241m-\u001b[39m\u001b[38;5;241m1\u001b[39m):\n",
      "Cell \u001b[0;32mIn[25], line 6\u001b[0m, in \u001b[0;36mszegedy_step\u001b[0;34m(qc)\u001b[0m\n\u001b[1;32m      4\u001b[0m \u001b[38;5;28mprint\u001b[39m(ls)\n\u001b[1;32m      5\u001b[0m \u001b[38;5;28;01mfor\u001b[39;00m i \u001b[38;5;129;01min\u001b[39;00m \u001b[38;5;28mrange\u001b[39m(num_input):\n\u001b[0;32m----> 6\u001b[0m     multi_cx(qc, [num_input \u001b[38;5;241m-\u001b[39m \u001b[38;5;241m1\u001b[39m], ls[:(\u001b[43mls\u001b[49m\u001b[38;5;241;43m.\u001b[39;49m\u001b[43mcount\u001b[49m\u001b[43m \u001b[49m\u001b[38;5;241;43m-\u001b[39;49m\u001b[43m \u001b[49m\u001b[43mi\u001b[49m)], num_input \u001b[38;5;241m+\u001b[39m i)\n\u001b[1;32m      7\u001b[0m     \u001b[38;5;66;03m# multi_cx(qc, [num_input - 1], [num_input + 2], num_input + 1)\u001b[39;00m\n\u001b[1;32m      8\u001b[0m     \u001b[38;5;66;03m# qc.cx(num_input - 1, num_input + 2)\u001b[39;00m\n\u001b[1;32m      9\u001b[0m     \u001b[38;5;28;01mpass\u001b[39;00m\n",
      "\u001b[0;31mTypeError\u001b[0m: unsupported operand type(s) for -: 'builtin_function_or_method' and 'int'"
     ]
    }
   ],
   "source": [
    "# Create the quantum circuit\n",
    "qc = QuantumCircuit(num_input * 2, num_input * 2)\n",
    "\n",
    "simulator = AerSimulator()\n",
    "\n",
    "steps = 20\n",
    "\n",
    "# Apply Hadamard coin operator\n",
    "qc.h(num_input + 0)\n",
    "qc.x(num_input + 2)\n",
    "qc.cx(num_input + 0, num_input + 1)\n",
    "# done with initail setup\n",
    "# qc.barrier()\n",
    "\n",
    "states = [Statevector.from_instruction(qc)]\n",
    "szegedy_step(qc)\n",
    "states.append(Statevector.from_instruction(qc))\n",
    "for _ in range(steps-1):\n",
    "    qc.h(num_input + 0)\n",
    "    szegedy_step(qc)\n",
    "    states.append(Statevector.from_instruction(qc))\n",
    "\n",
    "\n",
    "fig, axs = plt.subplots(3, 7, figsize=(24, 10))\n",
    "axs = axs.flatten()\n",
    "for i, state in enumerate(states):\n",
    "    probs = state.probabilities_dict()\n",
    "    filtered = {}\n",
    "    for key, val in probs.items():\n",
    "        if val < 0.0001:\n",
    "            continue\n",
    "        pos = key[:num_input]\n",
    "        filtered[pos] = filtered.get(pos, 0) + val\n",
    "    print(filtered.keys(), filtered.values())\n",
    "    axs[i].bar(filtered.keys(), filtered.values())\n",
    "    axs[i].set_title(f\"Step {i}\")\n",
    "    axs[i].set_ylim(0, 1)\n",
    "    axs[i].set_xlabel(\"Position state\")\n",
    "    axs[i].set_ylabel(\"Probability\")\n",
    "\n",
    "plt.tight_layout()\n",
    "plt.show()\n",
    "\n",
    "# qc.draw(output=\"mpl\")\n",
    "\n"
   ]
  },
  {
   "cell_type": "markdown",
   "metadata": {},
   "source": [
    "Minns ej om det här är något vi vill ha kvar"
   ]
  },
  {
   "cell_type": "code",
   "execution_count": null,
   "metadata": {},
   "outputs": [
    {
     "ename": "QiskitError",
     "evalue": "'No counts for experiment \"<qiskit.circuit.quantumcircuit.QuantumCircuit object at 0x7fd61b9c3e30>\"'",
     "output_type": "error",
     "traceback": [
      "\u001b[0;31m---------------------------------------------------------------------------\u001b[0m",
      "\u001b[0;31mQiskitError\u001b[0m                               Traceback (most recent call last)",
      "Cell \u001b[0;32mIn[15], line 6\u001b[0m\n\u001b[1;32m      4\u001b[0m qc \u001b[38;5;241m=\u001b[39m transpile(qc, simulator)\n\u001b[1;32m      5\u001b[0m result \u001b[38;5;241m=\u001b[39m simulator\u001b[38;5;241m.\u001b[39mrun(qc, shots\u001b[38;5;241m=\u001b[39m\u001b[38;5;241m1024\u001b[39m)\u001b[38;5;241m.\u001b[39mresult()\n\u001b[0;32m----> 6\u001b[0m counts \u001b[38;5;241m=\u001b[39m \u001b[43mresult\u001b[49m\u001b[38;5;241;43m.\u001b[39;49m\u001b[43mget_counts\u001b[49m\u001b[43m(\u001b[49m\u001b[43mqc\u001b[49m\u001b[43m)\u001b[49m\n\u001b[1;32m      8\u001b[0m \u001b[38;5;28mprint\u001b[39m(\u001b[38;5;124m\"\u001b[39m\u001b[38;5;124mMeasurement outcomes:\u001b[39m\u001b[38;5;124m\"\u001b[39m, counts)\n\u001b[1;32m      9\u001b[0m plot_histogram(counts, title\u001b[38;5;241m=\u001b[39m\u001b[38;5;124m'\u001b[39m\u001b[38;5;124mres\u001b[39m\u001b[38;5;124m'\u001b[39m)\n",
      "File \u001b[0;32m~/Documents/github/KEX/DA150X-Qauntum-Szegedy-Walk/.venv/lib64/python3.13/site-packages/qiskit/result/result.py:284\u001b[0m, in \u001b[0;36mResult.get_counts\u001b[0;34m(self, experiment)\u001b[0m\n\u001b[1;32m    282\u001b[0m         dict_list\u001b[38;5;241m.\u001b[39mappend(statevector\u001b[38;5;241m.\u001b[39mStatevector(vec)\u001b[38;5;241m.\u001b[39mprobabilities_dict(decimals\u001b[38;5;241m=\u001b[39m\u001b[38;5;241m15\u001b[39m))\n\u001b[1;32m    283\u001b[0m     \u001b[38;5;28;01melse\u001b[39;00m:\n\u001b[0;32m--> 284\u001b[0m         \u001b[38;5;28;01mraise\u001b[39;00m QiskitError(\u001b[38;5;124mf\u001b[39m\u001b[38;5;124m'\u001b[39m\u001b[38;5;124mNo counts for experiment \u001b[39m\u001b[38;5;124m\"\u001b[39m\u001b[38;5;132;01m{\u001b[39;00m\u001b[38;5;28mrepr\u001b[39m(key)\u001b[38;5;132;01m}\u001b[39;00m\u001b[38;5;124m\"\u001b[39m\u001b[38;5;124m'\u001b[39m)\n\u001b[1;32m    286\u001b[0m \u001b[38;5;66;03m# Return first item of dict_list if size is 1\u001b[39;00m\n\u001b[1;32m    287\u001b[0m \u001b[38;5;28;01mif\u001b[39;00m \u001b[38;5;28mlen\u001b[39m(dict_list) \u001b[38;5;241m==\u001b[39m \u001b[38;5;241m1\u001b[39m:\n",
      "\u001b[0;31mQiskitError\u001b[0m: 'No counts for experiment \"<qiskit.circuit.quantumcircuit.QuantumCircuit object at 0x7fd61b9c3e30>\"'"
     ]
    }
   ],
   "source": [
    "# Simulate the circuit\n",
    "# simulator = Aer.get_backend(\"qasm_simulator\")\n",
    "\n",
    "qc = transpile(qc, simulator)\n",
    "result = simulator.run(qc, shots=1024).result()\n",
    "counts = result.get_counts(qc)\n",
    "\n",
    "print(\"Measurement outcomes:\", counts)\n",
    "plot_histogram(counts, title='res')"
   ]
  },
  {
   "cell_type": "markdown",
   "metadata": {},
   "source": [
    "Så man kan se stora tal för en vis step"
   ]
  },
  {
   "cell_type": "code",
   "execution_count": null,
   "metadata": {},
   "outputs": [
    {
     "data": {
      "text/plain": [
       "Text(0, 0.5, 'Probability')"
      ]
     },
     "execution_count": 50,
     "metadata": {},
     "output_type": "execute_result"
    },
    {
     "data": {
      "image/png": "[encoded data removed]",
      "text/plain": [
       "<Figure size 2400x1000 with 1 Axes>"
      ]
     },
     "metadata": {},
     "output_type": "display_data"
    }
   ],
   "source": [
    "# Create the quantum circuit\n",
    "qc = QuantumCircuit(num_input * 2, num_input * 2)\n",
    "\n",
    "simulator = AerSimulator()\n",
    "\n",
    "steps = 100\n",
    "\n",
    "# Apply Hadamard coin operator\n",
    "qc.h(num_input + 0)\n",
    "qc.x(num_input + 2)\n",
    "qc.cx(num_input + 0, num_input + 1)\n",
    "# done with initail setup\n",
    "# qc.barrier()\n",
    "\n",
    "szegedy_step(qc)\n",
    "for _ in range(steps-1):\n",
    "    qc.h(num_input + 0)\n",
    "    szegedy_step(qc)\n",
    "\n",
    "state = Statevector.from_instruction(qc)\n",
    "\n",
    "\n",
    "fig, axs = plt.subplots(1, 1, figsize=(24, 10))\n",
    "\n",
    "probs = state.probabilities_dict()\n",
    "filtered = {}\n",
    "for key, val in probs.items():\n",
    "    pos = key[:num_input]\n",
    "    filtered[pos] = filtered.get(pos, 0) + val\n",
    "\n",
    "axs.bar(filtered.keys(), filtered.values())\n",
    "axs.set_title(f\"Step {steps}\")\n",
    "axs.set_ylim(0, 1)\n",
    "axs.set_xlabel(\"Position state\")\n",
    "axs.set_ylabel(\"Probability\")\n",
    "\n",
    "\n"
   ]
  },
  {
   "cell_type": "code",
   "execution_count": null,
   "metadata": {},
   "outputs": [],
   "source": []
  }
 ],
 "metadata": {
  "kernelspec": {
   "display_name": ".venv",
   "language": "python",
   "name": "python3"
  },
  "language_info": {
   "codemirror_mode": {
    "name": "ipython",
    "version": 3
   },
   "file_extension": ".py",
   "mimetype": "text/x-python",
   "name": "python",
   "nbconvert_exporter": "python",
   "pygments_lexer": "ipython3",
   "version": "3.13.2"
  }
 },
 "nbformat": 4,
 "nbformat_minor": 4
}
